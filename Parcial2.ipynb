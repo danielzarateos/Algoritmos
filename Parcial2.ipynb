{
  "nbformat": 4,
  "nbformat_minor": 0,
  "metadata": {
    "colab": {
      "name": "Untitled2.ipynb",
      "provenance": [],
      "authorship_tag": "ABX9TyO32g6EqxIw248Mo9W4tAAY",
      "include_colab_link": true
    },
    "kernelspec": {
      "name": "python3",
      "display_name": "Python 3"
    }
  },
  "cells": [
    {
      "cell_type": "markdown",
      "metadata": {
        "id": "view-in-github",
        "colab_type": "text"
      },
      "source": [
        "<a href=\"https://colab.research.google.com/github/danielzarateos/Algoritmos/blob/master/Parcial2.ipynb\" target=\"_parent\"><img src=\"https://colab.research.google.com/assets/colab-badge.svg\" alt=\"Open In Colab\"/></a>"
      ]
    },
    {
      "cell_type": "markdown",
      "metadata": {
        "id": "rwgHLRdJvrpn",
        "colab_type": "text"
      },
      "source": [
        "Busca en mercado libre algún producto que te guste que no sea carros ni el tema que usaste para el taller, utilizando web scraping logra recolectar todos los títulos junto con sus precios. (Valor 1.0)"
      ]
    },
    {
      "cell_type": "code",
      "metadata": {
        "id": "pGjRJWD8vwQV",
        "colab_type": "code",
        "colab": {}
      },
      "source": [
        "import requests \n",
        "url = 'https://listado.mercadolibre.com.co/moto#D[A:moto]'\n",
        "response = requests.get (url)\n",
        "print (response)"
      ],
      "execution_count": null,
      "outputs": []
    },
    {
      "cell_type": "code",
      "metadata": {
        "id": "PSOriLidwu5S",
        "colab_type": "code",
        "colab": {}
      },
      "source": [
        "import bs4\n",
        "parseo = bs4.BeautifulSoup (response.text, 'html.parser')\n",
        "getDataSelect = lambda clase : parseo.select(clase)\n",
        "dataTitle = parseo.select ('.ui-search-item__title')\n",
        "dataPrice = getDataSelect('.price-tag-fraction')\n",
        "print (dataTitle)\n",
        "print (dataPrice)\n",
        "nombreMoto2 = []\n",
        "nombreMoto = []\n",
        "funcionExtraerTexto = lambda elemento : elemento.text\n",
        "funcionListaDatos = lambda funcion, data :  list (map (funcion,data))\n",
        "nombreMoto = funcionListaDatos(funcionExtraerTexto, dataTitle)\n",
        "for elemento in dataTitle :\n",
        "  nombreMoto2.append (elemento.text)\n",
        "listaPrecios = funcionListaDatos(funcionExtraerTexto, dataPrice)\n",
        "print(listaPrecios)\n",
        "print(nombreMoto2)"
      ],
      "execution_count": null,
      "outputs": []
    },
    {
      "cell_type": "markdown",
      "metadata": {
        "id": "X1YdUCCexdT-",
        "colab_type": "text"
      },
      "source": [
        "Compare la cantidad de títulos y precios si son de un tamaño diferente deberá coger la mayor cantidad de datos posibles. Cree un diccionario donde se tengan la misma cantidad de precios que de títulos. (Valor 0.5)"
      ]
    },
    {
      "cell_type": "code",
      "metadata": {
        "id": "25_7eHDNxgD6",
        "colab_type": "code",
        "colab": {}
      },
      "source": [
        "print(len(nombreMoto))\n",
        "print(len(listaPrecios))\n",
        "import pandas as pd\n",
        "dictMotos = {}\n",
        "dictMotos ['Titulos'] = nombreMoto[:48]\n",
        "print (len (nombreMoto), len (listaPrecios))\n",
        "dictMotos ['Precios'] = listaPrecios[:48]\n",
        "print(dictMotos)"
      ],
      "execution_count": null,
      "outputs": []
    },
    {
      "cell_type": "markdown",
      "metadata": {
        "id": "LONawIgGy8qu",
        "colab_type": "text"
      },
      "source": [
        "3. Con la data recolectada crea un data frame y guárdalo en un csv(Valor0.5)"
      ]
    },
    {
      "cell_type": "code",
      "metadata": {
        "id": "rlppwD1tzGye",
        "colab_type": "code",
        "colab": {}
      },
      "source": [
        "motosDataFrame = pd.DataFrame(dictMotos)\n",
        "motosDataFrame.to_csv('Motos.csv', index=False)\n"
      ],
      "execution_count": 38,
      "outputs": []
    },
    {
      "cell_type": "markdown",
      "metadata": {
        "id": "kkFaSJytzQHq",
        "colab_type": "text"
      },
      "source": [
        "4. Utilizando funciones lambda y map agrega a la lista de títulos el nombre del\n",
        "producto por ejemplo carro: título y cree un nuevo dataframe con el mismo.\n",
        "Guárdelo en un csv (Valor 0.5)"
      ]
    },
    {
      "cell_type": "code",
      "metadata": {
        "id": "F4bf_T3Szc-I",
        "colab_type": "code",
        "colab": {}
      },
      "source": [
        "funcionAgregarMoto = lambda elemento : 'moto : ' + elemento\n",
        "titulosMoto = list (map(funcionAgregarMoto,nombreMoto))\n",
        "print (titulosMoto)\n",
        "titulosMotos2 = funcionListaDatos (funcionAgregarMoto, nombreMoto)\n",
        "print (titulosMoto2)\n",
        "dictMotos = {}\n",
        "dictMotos['Titulos'] = titulosMotos2[:48]\n",
        "dictMotos ['Precios'] = listaPrecios[:48]\n",
        "motosDF = pd.DataFrame(dictMotos)\n",
        "motosDF.to_csv('MotosNuevo.csv', index= False) "
      ],
      "execution_count": null,
      "outputs": []
    },
    {
      "cell_type": "markdown",
      "metadata": {
        "id": "UQsDT5Cj0nSd",
        "colab_type": "text"
      },
      "source": [
        "5. Utilizando programación funcional filter los títulos por una marca y\n",
        "adicionalmente aquellos que solo tengan menos de 80 caracteres guárdelo\n",
        "en un csv (Valor 0.5)"
      ]
    },
    {
      "cell_type": "code",
      "metadata": {
        "id": "XKK-0Qry0qai",
        "colab_type": "code",
        "colab": {
          "base_uri": "https://localhost:8080/",
          "height": 88
        },
        "outputId": "856dec25-3765-43fa-99e6-1dd9424b4f92"
      },
      "source": [
        "honda = lambda elemento : 'Honda' in elemento \n",
        "\n",
        "listaHondas = list (filter(honda, titulosMoto))\n",
        "print (listaHondas)\n",
        "\n",
        "from functools import reduce\n",
        "base = titulosMotos2\n",
        "longitud = lambda elemento : len(elemento)\n",
        "listaLongitudes = list(map(longitud,base))\n",
        "print(listaLongitudes)\n",
        "nombreMenosDeOchenta = lambda elemento : len (elemento) < 25\n",
        "listaNombresSmall = list (filter (nombreMenosDeOchenta, listaHondas))\n",
        "print (listaNombresSmall)\n",
        "hondaSerie = pd.Series(listaHondas)\n",
        "hondaSerie.to_csv('Motos Honda con nombre menor a 80.csv',  index_label='Honda')"
      ],
      "execution_count": 32,
      "outputs": [
        {
          "output_type": "stream",
          "text": [
            "['moto : Honda Cb125f']\n",
            "[36, 25, 24, 37, 35, 39, 25, 24, 63, 31, 32, 44, 23, 27, 22, 19, 24, 57, 26, 25, 34, 20, 25, 42, 67, 36, 33, 45, 27, 65, 37, 54, 22, 21, 22, 21, 15, 29, 30, 22, 34, 62, 19, 32, 28, 38, 26, 24]\n",
            "['moto : Honda Cb125f']\n"
          ],
          "name": "stdout"
        }
      ]
    },
    {
      "cell_type": "markdown",
      "metadata": {
        "id": "mhAakfh14e5K",
        "colab_type": "text"
      },
      "source": [
        "6. Utilizando programación funcional obtenga el largo promedio de los títulos\n",
        "obtenidos (valor 1.0)"
      ]
    },
    {
      "cell_type": "code",
      "metadata": {
        "id": "u-PMb33n4lyr",
        "colab_type": "code",
        "colab": {
          "base_uri": "https://localhost:8080/",
          "height": 71
        },
        "outputId": "4d56e68d-d7aa-4c20-c42f-f3cc4616cad6"
      },
      "source": [
        "from functools import reduce\n",
        "base= titulosMotos2\n",
        "longitud = lambda elemento : len(elemento)\n",
        "listaLongitudes = list(map(longitud,base))\n",
        "print(listaLongitudes)\n",
        "sumador=lambda elemento=0,acumulador=0:acumulador+elemento\n",
        "promedio = reduce (sumador,listaLongitudes)/len(base)\n",
        "print(promedio)"
      ],
      "execution_count": 33,
      "outputs": [
        {
          "output_type": "stream",
          "text": [
            "[36, 25, 24, 37, 35, 39, 25, 24, 63, 31, 32, 44, 23, 27, 22, 19, 24, 57, 26, 25, 34, 20, 25, 42, 67, 36, 33, 45, 27, 65, 37, 54, 22, 21, 22, 21, 15, 29, 30, 22, 34, 62, 19, 32, 28, 38, 26, 24]\n",
            "32.666666666666664\n"
          ],
          "name": "stdout"
        }
      ]
    },
    {
      "cell_type": "markdown",
      "metadata": {
        "id": "kvxxHz9-5JiI",
        "colab_type": "text"
      },
      "source": [
        "Muestre en pantalla en secciones diferentes del Jupyter (colab) todos los\n",
        "dataframes y series construidas. (valor 0.5)"
      ]
    },
    {
      "cell_type": "code",
      "metadata": {
        "id": "NoxVlI945ovu",
        "colab_type": "code",
        "colab": {
          "base_uri": "https://localhost:8080/"
        },
        "outputId": "69e60343-9c6c-4ec4-e450-4eec57a29ee5"
      },
      "source": [
        "motosDF"
      ],
      "execution_count": 46,
      "outputs": [
        {
          "output_type": "execute_result",
          "data": {
            "text/html": [
              "<div>\n",
              "<style scoped>\n",
              "    .dataframe tbody tr th:only-of-type {\n",
              "        vertical-align: middle;\n",
              "    }\n",
              "\n",
              "    .dataframe tbody tr th {\n",
              "        vertical-align: top;\n",
              "    }\n",
              "\n",
              "    .dataframe thead th {\n",
              "        text-align: right;\n",
              "    }\n",
              "</style>\n",
              "<table border=\"1\" class=\"dataframe\">\n",
              "  <thead>\n",
              "    <tr style=\"text-align: right;\">\n",
              "      <th></th>\n",
              "      <th>Titulos</th>\n",
              "      <th>Precios</th>\n",
              "    </tr>\n",
              "  </thead>\n",
              "  <tbody>\n",
              "    <tr>\n",
              "      <th>0</th>\n",
              "      <td>moto : Bajaj Pulsar Ns 200 Bsiv 2021</td>\n",
              "      <td>6.399.000</td>\n",
              "    </tr>\n",
              "    <tr>\n",
              "      <th>1</th>\n",
              "      <td>moto : Bajaj Boxer S 2021</td>\n",
              "      <td>8.699.000</td>\n",
              "    </tr>\n",
              "    <tr>\n",
              "      <th>2</th>\n",
              "      <td>moto : Ktm 200 Duke 2021</td>\n",
              "      <td>3.699.000</td>\n",
              "    </tr>\n",
              "    <tr>\n",
              "      <th>3</th>\n",
              "      <td>moto : Bajaj Pulsar 180 Gt Bsiv  2020</td>\n",
              "      <td>10.390.000</td>\n",
              "    </tr>\n",
              "    <tr>\n",
              "      <th>4</th>\n",
              "      <td>moto : Pulsar Ns200 Bs6 Modelo 2021</td>\n",
              "      <td>6.399.000</td>\n",
              "    </tr>\n",
              "    <tr>\n",
              "      <th>5</th>\n",
              "      <td>moto : Auteco Boxer S 0 Kilometros 2021</td>\n",
              "      <td>8.699.000</td>\n",
              "    </tr>\n",
              "    <tr>\n",
              "      <th>6</th>\n",
              "      <td>moto : Bajaj Pulsar 180gt</td>\n",
              "      <td>3.599.000</td>\n",
              "    </tr>\n",
              "    <tr>\n",
              "      <th>7</th>\n",
              "      <td>moto : Suzuki Gixxer 250</td>\n",
              "      <td>6.499.000</td>\n",
              "    </tr>\n",
              "    <tr>\n",
              "      <th>8</th>\n",
              "      <td>moto : Motocarro Modelo 2020 Cero Kilómetros C...</td>\n",
              "      <td>12.040.000</td>\n",
              "    </tr>\n",
              "    <tr>\n",
              "      <th>9</th>\n",
              "      <td>moto : Bajaj Pulsar Ns 200 2020</td>\n",
              "      <td>6.490.000</td>\n",
              "    </tr>\n",
              "    <tr>\n",
              "      <th>10</th>\n",
              "      <td>moto : Yamaha Xtz150 Modelo 2021</td>\n",
              "      <td>8.699.000</td>\n",
              "    </tr>\n",
              "    <tr>\n",
              "      <th>11</th>\n",
              "      <td>moto : Kymco Twist City 125 Facil De Manejar</td>\n",
              "      <td>9.100.000</td>\n",
              "    </tr>\n",
              "    <tr>\n",
              "      <th>12</th>\n",
              "      <td>moto : Pulsar Ns 160 Fi</td>\n",
              "      <td>4.899.000</td>\n",
              "    </tr>\n",
              "    <tr>\n",
              "      <th>13</th>\n",
              "      <td>moto : Ktm 390 Duke Ng 2019</td>\n",
              "      <td>7.399.000</td>\n",
              "    </tr>\n",
              "    <tr>\n",
              "      <th>14</th>\n",
              "      <td>moto : Boxer Ct 100 Ks</td>\n",
              "      <td>18.990.000</td>\n",
              "    </tr>\n",
              "    <tr>\n",
              "      <th>15</th>\n",
              "      <td>moto : Honda Cb125f</td>\n",
              "      <td>3.999.000</td>\n",
              "    </tr>\n",
              "    <tr>\n",
              "      <th>16</th>\n",
              "      <td>moto : Yamaha Fz-s 150cc</td>\n",
              "      <td>5.170.000</td>\n",
              "    </tr>\n",
              "    <tr>\n",
              "      <th>17</th>\n",
              "      <td>moto : Dominar 400 Creada Para Viajar. Nacida ...</td>\n",
              "      <td>7.300.000</td>\n",
              "    </tr>\n",
              "    <tr>\n",
              "      <th>18</th>\n",
              "      <td>moto : Yamaha Libero 125cc</td>\n",
              "      <td>13.999.000</td>\n",
              "    </tr>\n",
              "    <tr>\n",
              "      <th>19</th>\n",
              "      <td>moto : Pulsar Ns 200 2020</td>\n",
              "      <td>5.100.000</td>\n",
              "    </tr>\n",
              "    <tr>\n",
              "      <th>20</th>\n",
              "      <td>moto : Yamaha Xtz 250 Nuevo Diseño</td>\n",
              "      <td>8.699.000</td>\n",
              "    </tr>\n",
              "    <tr>\n",
              "      <th>21</th>\n",
              "      <td>moto : Suzuki Dr 150</td>\n",
              "      <td>18.200.000</td>\n",
              "    </tr>\n",
              "    <tr>\n",
              "      <th>22</th>\n",
              "      <td>moto : Pulsar Ns 200 Full</td>\n",
              "      <td>8.120.000</td>\n",
              "    </tr>\n",
              "    <tr>\n",
              "      <th>23</th>\n",
              "      <td>moto : Super Eléctrica S3 - 5.000w (litio)</td>\n",
              "      <td>7.990.000</td>\n",
              "    </tr>\n",
              "    <tr>\n",
              "      <th>24</th>\n",
              "      <td>moto : Moto Electrica Aima Bosch T3 Litio Negr...</td>\n",
              "      <td>12.790.000</td>\n",
              "    </tr>\n",
              "    <tr>\n",
              "      <th>25</th>\n",
              "      <td>moto : Auteco Pulsar 180 Gt Pro 2021</td>\n",
              "      <td>6.990.000</td>\n",
              "    </tr>\n",
              "    <tr>\n",
              "      <th>26</th>\n",
              "      <td>moto : Kymco Agility Fly 125 2014</td>\n",
              "      <td>6.300.000</td>\n",
              "    </tr>\n",
              "    <tr>\n",
              "      <th>27</th>\n",
              "      <td>moto : Suzuki Gixxer Sf Fi 2021 - Financiable</td>\n",
              "      <td>3.400.000</td>\n",
              "    </tr>\n",
              "    <tr>\n",
              "      <th>28</th>\n",
              "      <td>moto : Ktm 250 Duke Ng 2020</td>\n",
              "      <td>7.990.000</td>\n",
              "    </tr>\n",
              "    <tr>\n",
              "      <th>29</th>\n",
              "      <td>moto : Ecomoto Favelca Citycoco - Scooter Elec...</td>\n",
              "      <td>15.490.000</td>\n",
              "    </tr>\n",
              "    <tr>\n",
              "      <th>30</th>\n",
              "      <td>moto : Boxer S 2021 Entrega Inmediata</td>\n",
              "      <td>3.100.000</td>\n",
              "    </tr>\n",
              "    <tr>\n",
              "      <th>31</th>\n",
              "      <td>moto : Yamaha Bws X Fi Ed Pilot Exclusiva Mund...</td>\n",
              "      <td>3.599.000</td>\n",
              "    </tr>\n",
              "    <tr>\n",
              "      <th>32</th>\n",
              "      <td>moto : Victory Mrx 125</td>\n",
              "      <td>10.500.000</td>\n",
              "    </tr>\n",
              "    <tr>\n",
              "      <th>33</th>\n",
              "      <td>moto : Kawasaki Z 250</td>\n",
              "      <td>5.199.000</td>\n",
              "    </tr>\n",
              "    <tr>\n",
              "      <th>34</th>\n",
              "      <td>moto : Boxer Ct 100 Ks</td>\n",
              "      <td>12.000.000</td>\n",
              "    </tr>\n",
              "    <tr>\n",
              "      <th>35</th>\n",
              "      <td>moto : Yamaha Ycz 110</td>\n",
              "      <td>3.399.000</td>\n",
              "    </tr>\n",
              "    <tr>\n",
              "      <th>36</th>\n",
              "      <td>moto : Duke 200</td>\n",
              "      <td>4.500.000</td>\n",
              "    </tr>\n",
              "    <tr>\n",
              "      <th>37</th>\n",
              "      <td>moto : Bajaj Boxer S 100 2020</td>\n",
              "      <td>10.390.000</td>\n",
              "    </tr>\n",
              "    <tr>\n",
              "      <th>38</th>\n",
              "      <td>moto : Dominar 400 Modelo 2021</td>\n",
              "      <td>3.699.000</td>\n",
              "    </tr>\n",
              "    <tr>\n",
              "      <th>39</th>\n",
              "      <td>moto : Victory Mrx 150</td>\n",
              "      <td>13.999.000</td>\n",
              "    </tr>\n",
              "    <tr>\n",
              "      <th>40</th>\n",
              "      <td>moto : Kawasaki Vulcan 900 Classic</td>\n",
              "      <td>5.999.000</td>\n",
              "    </tr>\n",
              "    <tr>\n",
              "      <th>41</th>\n",
              "      <td>moto : Vendo/ Cambio Ducati Multistrada 1200 S...</td>\n",
              "      <td>39.990.000</td>\n",
              "    </tr>\n",
              "    <tr>\n",
              "      <th>42</th>\n",
              "      <td>moto : Bmw G 310 Gs</td>\n",
              "      <td>38.500.000</td>\n",
              "    </tr>\n",
              "    <tr>\n",
              "      <th>43</th>\n",
              "      <td>moto : Auteco Pulsar 160 Ns 2020</td>\n",
              "      <td>25.990.000</td>\n",
              "    </tr>\n",
              "    <tr>\n",
              "      <th>44</th>\n",
              "      <td>moto : Yamaha Bws X Fi 125cc</td>\n",
              "      <td>6.200.000</td>\n",
              "    </tr>\n",
              "    <tr>\n",
              "      <th>45</th>\n",
              "      <td>moto : Ktm Adventure 1190  Modelo 2013</td>\n",
              "      <td>10.200.000</td>\n",
              "    </tr>\n",
              "    <tr>\n",
              "      <th>46</th>\n",
              "      <td>moto : Yamaha Xtz 125 Azul</td>\n",
              "      <td>23.000.000</td>\n",
              "    </tr>\n",
              "    <tr>\n",
              "      <th>47</th>\n",
              "      <td>moto : Ktm 200 Duke 2020</td>\n",
              "      <td>3.600.000</td>\n",
              "    </tr>\n",
              "  </tbody>\n",
              "</table>\n",
              "</div>"
            ],
            "text/plain": [
              "                                              Titulos     Precios\n",
              "0                moto : Bajaj Pulsar Ns 200 Bsiv 2021   6.399.000\n",
              "1                           moto : Bajaj Boxer S 2021   8.699.000\n",
              "2                            moto : Ktm 200 Duke 2021   3.699.000\n",
              "3               moto : Bajaj Pulsar 180 Gt Bsiv  2020  10.390.000\n",
              "4                 moto : Pulsar Ns200 Bs6 Modelo 2021   6.399.000\n",
              "5             moto : Auteco Boxer S 0 Kilometros 2021   8.699.000\n",
              "6                           moto : Bajaj Pulsar 180gt   3.599.000\n",
              "7                            moto : Suzuki Gixxer 250   6.499.000\n",
              "8   moto : Motocarro Modelo 2020 Cero Kilómetros C...  12.040.000\n",
              "9                     moto : Bajaj Pulsar Ns 200 2020   6.490.000\n",
              "10                   moto : Yamaha Xtz150 Modelo 2021   8.699.000\n",
              "11       moto : Kymco Twist City 125 Facil De Manejar   9.100.000\n",
              "12                            moto : Pulsar Ns 160 Fi   4.899.000\n",
              "13                        moto : Ktm 390 Duke Ng 2019   7.399.000\n",
              "14                             moto : Boxer Ct 100 Ks  18.990.000\n",
              "15                                moto : Honda Cb125f   3.999.000\n",
              "16                           moto : Yamaha Fz-s 150cc   5.170.000\n",
              "17  moto : Dominar 400 Creada Para Viajar. Nacida ...   7.300.000\n",
              "18                         moto : Yamaha Libero 125cc  13.999.000\n",
              "19                          moto : Pulsar Ns 200 2020   5.100.000\n",
              "20                 moto : Yamaha Xtz 250 Nuevo Diseño   8.699.000\n",
              "21                               moto : Suzuki Dr 150  18.200.000\n",
              "22                          moto : Pulsar Ns 200 Full   8.120.000\n",
              "23         moto : Super Eléctrica S3 - 5.000w (litio)   7.990.000\n",
              "24  moto : Moto Electrica Aima Bosch T3 Litio Negr...  12.790.000\n",
              "25               moto : Auteco Pulsar 180 Gt Pro 2021   6.990.000\n",
              "26                  moto : Kymco Agility Fly 125 2014   6.300.000\n",
              "27      moto : Suzuki Gixxer Sf Fi 2021 - Financiable   3.400.000\n",
              "28                        moto : Ktm 250 Duke Ng 2020   7.990.000\n",
              "29  moto : Ecomoto Favelca Citycoco - Scooter Elec...  15.490.000\n",
              "30              moto : Boxer S 2021 Entrega Inmediata   3.100.000\n",
              "31  moto : Yamaha Bws X Fi Ed Pilot Exclusiva Mund...   3.599.000\n",
              "32                             moto : Victory Mrx 125  10.500.000\n",
              "33                              moto : Kawasaki Z 250   5.199.000\n",
              "34                             moto : Boxer Ct 100 Ks  12.000.000\n",
              "35                              moto : Yamaha Ycz 110   3.399.000\n",
              "36                                    moto : Duke 200   4.500.000\n",
              "37                      moto : Bajaj Boxer S 100 2020  10.390.000\n",
              "38                     moto : Dominar 400 Modelo 2021   3.699.000\n",
              "39                             moto : Victory Mrx 150  13.999.000\n",
              "40                 moto : Kawasaki Vulcan 900 Classic   5.999.000\n",
              "41  moto : Vendo/ Cambio Ducati Multistrada 1200 S...  39.990.000\n",
              "42                                moto : Bmw G 310 Gs  38.500.000\n",
              "43                   moto : Auteco Pulsar 160 Ns 2020  25.990.000\n",
              "44                       moto : Yamaha Bws X Fi 125cc   6.200.000\n",
              "45             moto : Ktm Adventure 1190  Modelo 2013  10.200.000\n",
              "46                         moto : Yamaha Xtz 125 Azul  23.000.000\n",
              "47                           moto : Ktm 200 Duke 2020   3.600.000"
            ]
          },
          "metadata": {
            "tags": []
          },
          "execution_count": 46
        }
      ]
    },
    {
      "cell_type": "code",
      "metadata": {
        "id": "AzYOsomU5y0d",
        "colab_type": "code",
        "colab": {}
      },
      "source": [
        "motosDataFrame"
      ],
      "execution_count": null,
      "outputs": []
    },
    {
      "cell_type": "code",
      "metadata": {
        "id": "0r31VTio6h6Y",
        "colab_type": "code",
        "colab": {}
      },
      "source": [
        "print(listaHondas)"
      ],
      "execution_count": null,
      "outputs": []
    },
    {
      "cell_type": "markdown",
      "metadata": {
        "id": "rKKZuaeb7UGC",
        "colab_type": "text"
      },
      "source": [
        "8. Dada la lista de precios detecte el largo de los mismos, una vez lo haya\n",
        "detectado, cree una lista donde exponga todos los largos y los divida por el mayor largo (0.5)"
      ]
    },
    {
      "cell_type": "code",
      "metadata": {
        "id": "5tN7kD8i8HbP",
        "colab_type": "code",
        "colab": {}
      },
      "source": [
        "base= listaPrecios\n",
        "longitud = lambda elemento : len(elemento)\n",
        "listaLongitudesP = list(map(longitud,base))\n",
        "print(listaLongitudesP)\n",
        "sumador=lambda elemento=0,acumulador=0:acumulador+elemento\n",
        "promedio = reduce (sumador,listaLongitudesP)/len(base)\n",
        "print(promedio)"
      ],
      "execution_count": null,
      "outputs": []
    }
  ]
}