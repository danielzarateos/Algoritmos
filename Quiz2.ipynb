{
  "nbformat": 4,
  "nbformat_minor": 0,
  "metadata": {
    "colab": {
      "name": "Quiz2.ipynb",
      "provenance": [],
      "authorship_tag": "ABX9TyOM1MDfBjScq6G+FcSKX0p3",
      "include_colab_link": true
    },
    "kernelspec": {
      "name": "python3",
      "display_name": "Python 3"
    }
  },
  "cells": [
    {
      "cell_type": "markdown",
      "metadata": {
        "id": "view-in-github",
        "colab_type": "text"
      },
      "source": [
        "<a href=\"https://colab.research.google.com/github/danielzarateos/Algoritmos/blob/master/Quiz2.ipynb\" target=\"_parent\"><img src=\"https://colab.research.google.com/assets/colab-badge.svg\" alt=\"Open In Colab\"/></a>"
      ]
    },
    {
      "cell_type": "markdown",
      "metadata": {
        "id": "RBvb3sPsBFYi",
        "colab_type": "text"
      },
      "source": [
        "QUIZ 2\n",
        "Valor 1.0 Con los elementos visto en clase desarrollar un código que cree de forma aleatoria una lista del tamaño que dictamine el usuario. Los números aleatorios deben ser escogidos en el intervalo entre 300 y 1230.\n",
        "Una vez dada esta lista organícela empleando el método de burbuja, inserción y mezcla.\n",
        "¿Cuál es el más eficiente?\n",
        "Muestre en la pantalla la lista desordenada y ordenada\n",
        "Muestre los tiempos para los tres métodos"
      ]
    },
    {
      "cell_type": "code",
      "metadata": {
        "id": "OUPINRpqBIVv",
        "colab_type": "code",
        "colab": {
          "base_uri": "https://localhost:8080/",
          "height": 139
        },
        "outputId": "9fd9fb61-b302-4984-e439-07648f5854b2"
      },
      "source": [
        "def ordenamiento_burbuja(lista):\n",
        "    size = len (lista)\n",
        "    for i in range (size):\n",
        "        for j in range (0, size-i -1):\n",
        "            if lista [j]> lista[j+1]:\n",
        "                lista[j],lista[j+1] = lista[j+1],lista[j]\n",
        "\n",
        "    return lista\n",
        "\n",
        "def ordenamiento_por_insercion(lista):\n",
        "\n",
        "    for indice in range(1, len(lista)):\n",
        "        valor_actual = lista[indice]\n",
        "        posicion_actual = indice\n",
        "        while posicion_actual > 0 and lista[posicion_actual - 1] > valor_actual:\n",
        "            lista[posicion_actual] = lista[posicion_actual - 1]\n",
        "            posicion_actual -= 1\n",
        "        lista[posicion_actual] = valor_actual\n",
        "    return lista\n",
        "\n",
        "def ord_por_mezcla(lista):\n",
        "    #caso base\n",
        "    if len(lista) > 1:\n",
        "        medio = len(lista) // 2\n",
        "        izquierda = lista[:medio]\n",
        "        derecha = lista[medio:]\n",
        "\n",
        "        #llamada recursiva\n",
        "        izquierda = ord_por_mezcla(izquierda)\n",
        "        derecha = ord_por_mezcla(derecha)\n",
        "\n",
        "        #iteradores para recorrer las dos sublistas\n",
        "        i = 0\n",
        "        j = 0\n",
        "        #Iterador para la lista principal\n",
        "        k = 0\n",
        "\n",
        "        while i< len(izquierda) and j < len(derecha): #mientras podamos seguir comparando\n",
        "            if izquierda[i] < derecha[j]:\n",
        "                lista[k] = izquierda[i]\n",
        "                i += 1\n",
        "            else:\n",
        "                lista[k] = derecha[j]\n",
        "                j += 1\n",
        "            k+= 1\n",
        "        #copiar los pedazos de las listas que quedaron\n",
        "        while i < len(izquierda):\n",
        "            lista[k] = izquierda[i]\n",
        "            i+=1\n",
        "            k += 1\n",
        "        while j < len(derecha):\n",
        "            lista[k] = derecha[j]\n",
        "            j += 1\n",
        "            k += 1\n",
        "        \n",
        "\n",
        "    return lista\n",
        "\n",
        "import time\n",
        "import random\n",
        "size_list= int (input('Ingrese tamaño de la lista :' ))\n",
        "lista = [random.randint(300,1230) for i in range(size_list)]\n",
        "lista_desordenada = lista\n",
        "print('se muestra la lista desordenada')\n",
        "print(lista_desordenada)\n",
        "lista_desordenada_2 = lista\n",
        "lista_desordenada_3 = lista\n",
        "inicio = time.time()\n",
        "ordenamiento_burbuja(lista)\n",
        "final_burbuja = time.time()-inicio\n",
        "\n",
        "inicio = time.time()\n",
        "ordenamiento_por_insercion(lista_desordenada)\n",
        "final_insercion = time.time()-inicio\n",
        "\n",
        "\n",
        "inicio = time.time()\n",
        "ord_por_mezcla(lista_desordenada_2)\n",
        "final_mezcla = time.time()-inicio\n",
        "\n",
        "print('se muestra la lista ordenada')\n",
        "print(lista_desordenada)\n",
        "\n",
        "print(f'el tiempo fina de borbuja es {final_burbuja} y el de insercion {final_insercion} y el tiempo final de mezcla {final_mezcla}, y el mas eficiente es insercion')\n",
        "\n",
        "  "
      ],
      "execution_count": null,
      "outputs": [
        {
          "output_type": "stream",
          "text": [
            "Ingrese tamaño de la lista :10\n",
            "se muestra la lista desordenada\n",
            "[1039, 823, 1016, 984, 929, 467, 683, 1045, 920, 319]\n",
            "se muestra la lista ordenada\n",
            "[319, 467, 683, 823, 920, 929, 984, 1016, 1039, 1045]\n",
            "el tiempo fina de borbuja es 9.226799011230469e-05 y el de insercion 6.389617919921875e-05 y el tiempo final de mezcla 0.00012826919555664062, y el mas eficiente es insercion\n"
          ],
          "name": "stdout"
        }
      ]
    },
    {
      "cell_type": "markdown",
      "metadata": {
        "id": "ay11GrbEB0me",
        "colab_type": "text"
      },
      "source": [
        "Valor 4.0 Dado el sitio web de noticias https://noticias.caracoltv.com/\n",
        "Se solicita hacer web scraping y obtener el titulo de las noticias junto con sus links.\n",
        "Luego guárdelo en un archivo noticiasCaracol.csv"
      ]
    },
    {
      "cell_type": "code",
      "metadata": {
        "id": "wvPO1YwjB6Me",
        "colab_type": "code",
        "colab": {}
      },
      "source": [
        "import requests\n",
        "url = 'https://noticias.caracoltv.com/'\n",
        "\n",
        "response = requests.get(url)\n",
        "print(response)"
      ],
      "execution_count": null,
      "outputs": []
    },
    {
      "cell_type": "code",
      "metadata": {
        "id": "HsEaEv32DlqW",
        "colab_type": "code",
        "colab": {}
      },
      "source": [
        "import bs4\n",
        "\n",
        "completo = bs4.BeautifulSoup(response.text,'html.parser')\n",
        "noticias = completo.select('.PromoB-title a')\n",
        "\n",
        "print(noticias)"
      ],
      "execution_count": null,
      "outputs": []
    },
    {
      "cell_type": "code",
      "metadata": {
        "id": "MU-XDFsjDpTa",
        "colab_type": "code",
        "colab": {}
      },
      "source": [
        "titulos = []\n",
        "links = []\n",
        "for noticia in noticias:\n",
        "  titulos.append(noticia.text)\n",
        "  links.append('https://noticias.caracoltv.com/' + noticia['href'])\n",
        "\n",
        "print(titulos)\n",
        "print(links)\n",
        "dictNoticias = {}\n",
        "dictNoticias['Noticias'] = titulos\n",
        "dictNoticias['Enlace'] = links"
      ],
      "execution_count": null,
      "outputs": []
    },
    {
      "cell_type": "code",
      "metadata": {
        "id": "wI0f4drPDsJ3",
        "colab_type": "code",
        "colab": {}
      },
      "source": [
        "import pandas as pd\n",
        "noticiasCaracol = pd.DataFrame(dictNoticias)\n",
        "noticiasCaracol\n",
        "\n",
        "noticiasCaracol.to_csv('noticiasCaracol.csv', index=False)"
      ],
      "execution_count": 7,
      "outputs": []
    }
  ]
}