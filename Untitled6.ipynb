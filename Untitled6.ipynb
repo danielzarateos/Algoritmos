{
  "nbformat": 4,
  "nbformat_minor": 0,
  "metadata": {
    "colab": {
      "name": "Untitled6.ipynb",
      "provenance": [],
      "collapsed_sections": [],
      "include_colab_link": true
    },
    "kernelspec": {
      "name": "python3",
      "display_name": "Python 3"
    }
  },
  "cells": [
    {
      "cell_type": "markdown",
      "metadata": {
        "id": "view-in-github",
        "colab_type": "text"
      },
      "source": [
        "<a href=\"https://colab.research.google.com/github/danielzarateos/Algoritmos/blob/master/Untitled6.ipynb\" target=\"_parent\"><img src=\"https://colab.research.google.com/assets/colab-badge.svg\" alt=\"Open In Colab\"/></a>"
      ]
    },
    {
      "cell_type": "code",
      "metadata": {
        "id": "5pp0hK5W1vut"
      },
      "source": [
        "import sklearn #Aprendizaje de máquina\n",
        "from sklearn.datasets import load_iris#SET DATOS\n",
        "from sklearn.model_selection import train_test_split#Division de datos\n",
        "#para entrenar y para verificar\n",
        "iris=load_iris()#cargar el set de datos\n",
        "#print(type(iris))\n",
        "print(iris.keys())\n",
        "print(iris['data'])\n",
        "print(iris['target_names'])\n",
        "print(iris['target'])\n",
        "print(iris['feature_names'])\n",
        "\n"
      ],
      "execution_count": null,
      "outputs": []
    },
    {
      "cell_type": "code",
      "metadata": {
        "id": "9b30OYeZBe7r",
        "outputId": "e32f89b5-80b9-4839-9d1c-8f6f47f33fbc",
        "colab": {
          "base_uri": "https://localhost:8080/",
          "height": 103
        }
      },
      "source": [
        "datosEntrenamiento, datosPrueba,respuestasEntrenamiento,respuestaPrueba=train_test_split(iris['data'],iris['target'])\n",
        "print(datosEntrenamiento.shape)\n",
        "#print (datosEntrenamiento)\n",
        "print(respuestasEntrenamiento)\n"
      ],
      "execution_count": null,
      "outputs": [
        {
          "output_type": "stream",
          "text": [
            "(112, 4)\n",
            "[0 1 1 0 0 1 1 2 2 1 2 1 0 0 2 1 0 1 2 2 0 0 2 1 2 0 0 0 0 2 0 1 0 1 0 2 1\n",
            " 0 1 2 1 0 0 0 1 2 2 1 1 2 0 1 2 1 2 2 0 2 2 1 1 1 2 1 1 0 1 0 0 1 0 1 0 1\n",
            " 1 2 2 0 1 0 2 2 2 1 2 1 2 0 2 2 2 1 2 1 0 2 2 1 1 1 2 2 2 2 0 2 0 2 1 1 2\n",
            " 1]\n"
          ],
          "name": "stdout"
        }
      ]
    },
    {
      "cell_type": "code",
      "metadata": {
        "id": "R-1Md4U2DLmR",
        "outputId": "dd7a35fa-eb05-421a-de68-00d77f74353b",
        "colab": {
          "base_uri": "https://localhost:8080/",
          "height": 68
        }
      },
      "source": [
        "from sklearn.neighbors import KNeighborsClassifier\n",
        "knn=KNeighborsClassifier(n_neighbors=4)\n",
        "knn.fit(datosEntrenamiento,respuestasEntrenamiento)\n"
      ],
      "execution_count": null,
      "outputs": [
        {
          "output_type": "execute_result",
          "data": {
            "text/plain": [
              "KNeighborsClassifier(algorithm='auto', leaf_size=30, metric='minkowski',\n",
              "                     metric_params=None, n_jobs=None, n_neighbors=4, p=2,\n",
              "                     weights='uniform')"
            ]
          },
          "metadata": {
            "tags": []
          },
          "execution_count": 16
        }
      ]
    },
    {
      "cell_type": "code",
      "metadata": {
        "id": "b8KCSzDgFdyg",
        "outputId": "554b581e-d3ed-48f4-a006-3525fa0e7e33",
        "colab": {
          "base_uri": "https://localhost:8080/",
          "height": 68
        }
      },
      "source": [
        "print(knn.score(datosPrueba,respuestaPrueba)*100)\n",
        "aux=knn.predict([[6.4, 2.8, 5.6, 2.2]])\n",
        "print(aux)\n",
        "print(iris['target_names'][aux])"
      ],
      "execution_count": null,
      "outputs": [
        {
          "output_type": "stream",
          "text": [
            "94.73684210526315\n",
            "[2]\n",
            "['virginica']\n"
          ],
          "name": "stdout"
        }
      ]
    }
  ]
}