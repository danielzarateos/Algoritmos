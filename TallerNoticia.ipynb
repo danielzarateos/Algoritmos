{
  "nbformat": 4,
  "nbformat_minor": 0,
  "metadata": {
    "colab": {
      "name": "Untitled4.ipynb",
      "provenance": [],
      "include_colab_link": true
    },
    "kernelspec": {
      "name": "python3",
      "display_name": "Python 3"
    }
  },
  "cells": [
    {
      "cell_type": "markdown",
      "metadata": {
        "id": "view-in-github",
        "colab_type": "text"
      },
      "source": [
        "<a href=\"https://colab.research.google.com/github/danielzarateos/Algoritmos/blob/master/TallerNoticia.ipynb\" target=\"_parent\"><img src=\"https://colab.research.google.com/assets/colab-badge.svg\" alt=\"Open In Colab\"/></a>"
      ]
    },
    {
      "cell_type": "code",
      "metadata": {
        "id": "kkPI7H8DSkSC",
        "colab_type": "code",
        "colab": {
          "base_uri": "https://localhost:8080/",
          "height": 34
        },
        "outputId": "fd78e7a8-8555-45dd-c2bd-a3d2c3bc9f79"
      },
      "source": [
        "import requests\n",
        "url = 'https://www.nytimes.com/'\n",
        "\n",
        "response = requests.get(url)\n",
        "print(response)"
      ],
      "execution_count": 18,
      "outputs": [
        {
          "output_type": "stream",
          "text": [
            "<Response [200]>\n"
          ],
          "name": "stdout"
        }
      ]
    },
    {
      "cell_type": "code",
      "metadata": {
        "id": "ruTIlgkPUTqA",
        "colab_type": "code",
        "colab": {}
      },
      "source": [
        "print (response.headers)\n",
        "print(response.headers['Date'])\n",
        "print(response.text)"
      ],
      "execution_count": null,
      "outputs": []
    },
    {
      "cell_type": "code",
      "metadata": {
        "id": "cSYIfqtRVISV",
        "colab_type": "code",
        "colab": {
          "base_uri": "https://localhost:8080/",
          "height": 54
        },
        "outputId": "1ebcda89-edb7-43a5-bd24-32cabd9b12b8"
      },
      "source": [
        "import bs4\n",
        "completo = bs4.BeautifulSoup(response.text,'html.parser')\n",
        "noticias = completo.select('.css-8atqhb a')\n",
        "print (noticias)"
      ],
      "execution_count": 21,
      "outputs": [
        {
          "output_type": "stream",
          "text": [
            "[<a href=\"/2020/09/01/briefing/coronavirus-kenosha-massachusetts-your-tuesday-briefing.html\"><div class=\"css-1g8bx4t\"><figure class=\"css-mky99g\"><img alt=\"A memorial in Washington last week for those who died from the coronavirus.\" decoding=\"async\" src=\"https://static01.nyt.com/images/2020/08/31/sports/1ambriefing-promo/1ambriefing-promo-square640-v4.png?quality=75&amp;auto=webp&amp;disable=upscale&amp;width=350\"/></figure></div></a>, <a href=\"/2020/09/01/briefing/coronavirus-kenosha-massachusetts-your-tuesday-briefing.html\"><div class=\"css-8oysku e18972d71\" type=\"1\"><div class=\"css-1iexn6j e1voiwgp1\"><h2 class=\"css-nhfrhl e1voiwgp0\">The Morning</h2></div></div><div class=\"css-8oysku e18972d71\"><p class=\"css-gs67ux e1lfvv700\">Make sense of the news, every day, with David Leonhardt.</p></div></a>, <a href=\"/2020/09/01/us/ca-air-quality-index.html\"><div class=\"css-1g8bx4t\"><figure class=\"css-mky99g\"><img alt=\"A haze of smoke lingers over Lake Berryessa, Calif.\" decoding=\"async\" src=\"https://static01.nyt.com/images/2020/09/01/us/01californiatoday-1/01californiatoday-1-square640.jpg?quality=75&amp;auto=webp&amp;disable=upscale&amp;width=350\"/></figure></div></a>, <a href=\"/2020/09/01/us/ca-air-quality-index.html\"><div class=\"css-8oysku e18972d71\" type=\"1\"><div class=\"css-1iexn6j e1voiwgp1\"><h2 class=\"css-nhfrhl e1voiwgp0\">California Today</h2></div></div><div class=\"css-8oysku e18972d71\"><p class=\"css-gs67ux e1lfvv700\">How to read California’s Air Quality Index.</p></div></a>, <a href=\"/2020/09/01/podcasts/the-daily/joe-biden-protests-trump.html\"><div class=\"css-1g8bx4t\"><figure class=\"css-mky99g\"><img alt=\"\" decoding=\"async\" src=\"https://static01.nyt.com/images/2017/01/29/podcasts/the-daily-album-art/the-daily-album-art-square320-v4.png\"/></figure></div></a>, <a href=\"/2020/09/01/podcasts/the-daily/joe-biden-protests-trump.html\"><div class=\"css-8oysku e18972d71\" type=\"1\"><div class=\"css-1iexn6j e1voiwgp1\"><h2 class=\"css-nhfrhl e1voiwgp0\">Listen to ‘The Daily’</h2></div></div><div class=\"css-8oysku e18972d71\"><p class=\"css-gs67ux e1lfvv700\">Joe Biden’s rebuttal.</p></div></a>, <a href=\"https://www.nytimes.com/live/2020/09/01/us/trump-vs-biden\"><div class=\"css-debyuq e1voiwgp1\"><h2 class=\"css-1vvhd4r e1voiwgp0\"><span>Trump Offers Baseless Theory of People in ‘Dark Shadows’ Behind Biden</span></h2></div><ul class=\"css-ip5ca7 e1lfvv701\"><li>President Trump floated a conspiracy theory that powerful people were behind Joe Biden’s campaign in an interview on Fox late Monday.</li><li>Mr. Trump also compared instances of the police shooting people to golfers who “choke” when trying to sink “a three-foot putt.”</li><li>Today he is headed to Kenosha, Wis., where local officials fear he’ll stoke more unrest. Here’s the latest.</li></ul></a>, <a href=\"/2020/09/01/us/politics/trump-homeland-security-extremism.html\"><div class=\"css-debyuq e1voiwgp1\"><h2 class=\"css-1cmu9py e1voiwgp0\">Trump Administration Promise to Focus on Extremism Remains Unfulfilled</h2></div><p class=\"css-1pfq5u e1lfvv700\">A year after the Department of Homeland Security promised a new focus on domestic extremism, the plan is nowhere in sight as the atmosphere worsens.</p></a>, <a href=\"/2020/08/31/video/portland-protests-shooting-investigation.html\"><div class=\"css-1g8bx4t\"><figure class=\"css-mky99g\"><div class=\"css-11kuxu4\" style=\"width:100%;padding-bottom:66.66666666666666%;overflow:hidden\"><div class=\"css-122y91a\"><img alt=\"Cinemagraph\" class=\"css-c7hxrg\" src=\"https://static01.nyt.com/images/2020/10/01/autossell/31vid-portland-newhp/31vid-portland-newhp-threeByTwoMediumAt2X.jpg\"/><video autoplay=\"\" class=\"cinemagraph_video css-c7hxrg\" loop=\"\" muted=\"\" playsinline=\"\" src=\"https://vp.nyt.com/video/2020/09/01/88364_1_31vid-portlan-newhp_wg_720p.mp4\"></video></div></div><figcaption class=\"css-1blv1z4 e2u1rkt1\"><section class=\"css-1xdhyk6 e2u1rkt0\"><span class=\"credit\">Mike Baker/The New York Times</span></section></figcaption></figure></div></a>, <a href=\"/2020/08/31/video/portland-protests-shooting-investigation.html\"><div class=\"css-debyuq e1voiwgp1\"><h2 class=\"css-1cmu9py e1voiwgp0\">How the Fatal Shooting at a Portland Protest Unfolded</h2></div><p class=\"css-1pfq5u e1lfvv700\">We followed the final moments of a man shot and killed in Portland, Ore., as supporters of President Trump clashed with those protesting police violence.</p></a>, <a href=\"/interactive/2020/us/elections/election-states-biden-trump.html\"><div class=\"css-debyuq e1voiwgp1\"><h2 class=\"css-1vvhd4r e1voiwgp0\"><span>The States Joe Biden and President Trump Need to Win to Reach 270 Electoral Votes</span></h2></div><p class=\"css-1pfq5u e1lfvv700\">In this interactive diagram, try building your own coalition of states to see potential outcomes of the presidential race.</p></a>, <a href=\"/2020/09/01/us/politics/massachusetts-elections-markey-kennedy-neal-morse.html\"><div class=\"css-debyuq e1voiwgp1\"><h2 class=\"css-1cmu9py e1voiwgp0\">Massachusetts Primary Elections: What to Watch For</h2></div><p class=\"css-1pfq5u e1lfvv700\">Senator Edward Markey is facing off against Joseph Kennedy, while a young progressive takes on a powerful incumbent in Western Massachusetts.</p></a>, <a href=\"/2020/09/01/us/politics/biden-trump-fundraising-election.html\"><div class=\"css-debyuq e1voiwgp1\"><h2 class=\"css-1cmu9py e1voiwgp0\">Biden Expected to Surpass $300 Million Raised in August, Shattering Record</h2></div><p class=\"css-1pfq5u e1lfvv700\">The fund-raising total would exceed previous monthly hauls and is more than double what Joe Biden raised in July.</p></a>, <a href=\"/2020/09/01/nyregion/schools-open-coronavirus-nyc.html\"><div class=\"css-debyuq e1voiwgp1\"><h2 class=\"css-1vvhd4r e1voiwgp0\"><span>New York City Delays Start of School to Ready for In-Person Classes</span></h2></div><p class=\"css-1pfq5u e1lfvv700\">The city’s 1.1 million children will not return to school until Sept. 21.</p></a>, <a href=\"/2020/09/01/world/coronavirus-covid-19.html\"><div class=\"css-debyuq e1voiwgp1\"><div class=\"css-1rczz1p\">LIVE</div><h2 class=\"css-1cmu9py e1voiwgp0\">Children of Color Disproportionately Affected by Virus, Research Shows</h2></div><p class=\"css-1pfq5u e1lfvv700\">The unique vulnerability of these children comes to light as schools reopen across the nation and the globe. Here’s the latest.</p></a>, <a href=\"/2020/09/01/health/coronavirus-parents-schools.html\"><div class=\"css-debyuq e1voiwgp1\"><h2 class=\"css-1cmu9py e1voiwgp0\">A Parent’s Toughest Call: In-Person Schooling or Not?</h2></div><p class=\"css-1pfq5u e1lfvv700\">Parents are wrestling with difficult choices over sending their children to school. Here’s how one science reporter made the decision.</p></a>, <a href=\"/video/health/100000007293397/covid-pandemics-causes-documentary.html\"><div class=\"css-debyuq e1voiwgp1\"><h2 class=\"css-1vvhd4r e1voiwgp0\"><span>How to Stop the Next Pandemic</span></h2></div><p class=\"css-1pfq5u e1lfvv700\">It’s not just Covid-19. Pathogens once confined to nature are making their way into humans on a more regular basis. And it’s our fault.</p></a>, <a href=\"/video/health/100000007293397/covid-pandemics-causes-documentary.html\"><div class=\"css-1g8bx4t\"><figure class=\"css-mky99g\"><div class=\"css-2f6unb eb7jd2b0\"><div class=\"css-zjzyr8\"><div data-testid=\"lazyimage-container\" style=\"height:177.77777777777777px\"></div></div><div class=\"gradient\"></div><div class=\"controlsWrapper\"><div class=\"controls\"><div class=\"playAndDuration\"><svg height=\"30\" viewbox=\"0 0 40 40\" width=\"30\"><path d=\"M3 40V0l34 20z\" fill=\"#F7F7F7\" fill-rule=\"evenodd\"></path><circle cx=\"20\" cy=\"20\" fill=\"transparent\" r=\"19\" stroke=\"#F7F7F7\" stroke-width=\"2px\"></circle></svg><span class=\"duration\">13:55</span></div></div></div></div></figure></div></a>, <a href=\"/2020/09/01/business/economy/small-businesses-coronavirus.html\"><div class=\"css-debyuq e1voiwgp1\"><h2 class=\"css-1vvhd4r e1voiwgp0\"><span>‘We’re on Life Support’: Small Businesses Brace for Failure as Aid Dries Up</span></h2></div><p class=\"css-1pfq5u e1lfvv700\">Many business owners face tough choices after a federal loan program and other government moves to bolster the economy have run their course.</p></a>, <a href=\"/2020/09/01/us/coronavirus-point-roberts-washington-canada.html\"><div class=\"css-debyuq e1voiwgp1\"><h2 class=\"css-1cmu9py e1voiwgp0\">‘I Am Stuck Until That Border Opens’: Marooned in Paradise</h2></div><p class=\"css-1pfq5u e1lfvv700\">This geographically isolated community in Washington State has avoided the coronavirus, but at a considerable cost.</p></a>, <a href=\"https://www.nytimes.com/live/2020/09/01/business/stock-market-today-coronavirus\"><div class=\"css-debyuq e1voiwgp1\"><div class=\"css-1rczz1p\">LIVE</div><h2 class=\"css-1cmu9py e1voiwgp0\">Business Updates: Steven Mnuchin Testifies Before Congress on Virus Aid</h2></div><p class=\"css-1pfq5u e1lfvv700\">A top Fed official says the U.S. economy remains at risk as the pandemic wears on. J.C. Penney faces liquidation as deal talks stall. Here’s the latest.</p></a>, <a href=\"/2020/09/01/dining/state-fair-food-coronavirus.html\"><div class=\"css-debyuq e1voiwgp1\"><div class=\"css-hb0qj3\">The Great Read</div><h2 class=\"css-1gnqzz e1voiwgp0\"><span>The State Fair Is Canceled. Deep-Fried Oreos Are Not.</span></h2></div><p class=\"css-1pfq5u e1lfvv700\">Food vendors and their devoted fans are going to great lengths, from drive-throughs to phone apps, to keep the corn dogs and chickens-on-a-stick flowing.</p></a>, <a href=\"/2020/09/01/dining/state-fair-food-coronavirus.html\"><div class=\"css-1g8bx4t\"><figure class=\"css-mky99g\"><div class=\"css-zjzyr8\"><div data-testid=\"lazyimage-container\" style=\"height:177.77777777777777px\"></div></div><figcaption class=\"css-1blv1z4 e2u1rkt1\"><section class=\"css-1xdhyk6 e2u1rkt0\"><span class=\"credit\">Jenn Ackerman for The New York Times</span></section></figcaption></figure></div></a>, <a aria-label=\"Trump Needs His Own Sister Souljah Moment by Jamelle Bouie\" href=\"/2020/09/01/opinion/trump-kenosha-portland-sister-souljah.html\"><div class=\"css-dcl9ft\"><img alt=\"Jamelle Bouie\" decoding=\"async\" src=\"https://static01.nyt.com/images/2019/01/24/opinion/jamelle-bouie/jamelle-bouie-thumbLarge-v3.png?quality=75&amp;auto=webp&amp;disable=upscale\"/></div><div class=\"css-debyuq e1voiwgp1\"><div class=\"css-1xdt15l\"><div class=\"css-1dvlumo e18df3gd0\">Jamelle Bouie</div></div><h2 class=\"css-1yxu27x e1voiwgp0\">Trump Needs His Own Sister Souljah Moment</h2></div><p class=\"css-1pfq5u e1lfvv700\">The president must condemn those responsible for violence and disavow those who act in his name. Easy, right?</p></a>, <a aria-label=\"We’re All Socially Awkward Now by Kate Murphy\" href=\"/2020/09/01/sunday-review/coronavirus-socially-awkward.html\"><div class=\"css-debyuq e1voiwgp1\"><div class=\"css-1xdt15l\"><div class=\"css-1dvlumo e18df3gd0\">Kate Murphy</div></div><h2 class=\"css-1yxu27x e1voiwgp0\">We’re All Socially Awkward Now</h2></div><p class=\"css-1pfq5u e1lfvv700\">Deprive people of interactions with peers, and their social skills will atrophy. This is yet another side effect of the pandemic.</p></a>, <a aria-label=\"We’re All Socially Awkward Now by Kate Murphy\" href=\"/2020/09/01/sunday-review/coronavirus-socially-awkward.html\"><div class=\"css-1g8bx4t\"><figure class=\"css-mky99g\"><img alt=\"\" decoding=\"async\" src=\"https://static01.nyt.com/images/2020/09/01/opinion/01Murphy1/01Murphy1-square640.jpg?quality=75&amp;auto=webp&amp;disable=upscale&amp;width=350\"/></figure></div></a>, <a aria-label=\"Trump Creates His Own ‘Deep State’ by John Sipher\" href=\"/2020/09/01/opinion/national-intelligence-briefings-House-senate.html\"><div class=\"css-debyuq e1voiwgp1\"><div class=\"css-1xdt15l\"><div class=\"css-tnu8m6 e18df3gd0\">John Sipher</div></div><h2 class=\"css-z9cw67 e1voiwgp0\">Trump Creates His Own ‘Deep State’</h2></div></a>, <a aria-label=\"American Clinical Research Needs to Step Up Its Game Against Covid-19 by Ezekiel J. Emanuel and Cathy Zhang and Amaya Diana\" href=\"/2020/09/01/opinion/coronavirus-clinical-research.html\"><div class=\"css-debyuq e1voiwgp1\"><div class=\"css-1xdt15l\"><div class=\"css-tnu8m6 e18df3gd0\">Ezekiel J. Emanuel, Cathy Zhang and Amaya Diana</div></div><h2 class=\"css-z9cw67 e1voiwgp0\">Britain Is Doing Covid-19 Research Better Than the U.S.</h2></div></a>, <a aria-label=\"Unwitting Progressives for Trump by Bret Stephens\" href=\"/2020/08/31/opinion/trump-biden-protests.html\"><div class=\"css-dcl9ft\"><img alt=\"Bret Stephens\" decoding=\"async\" src=\"https://static01.nyt.com/images/2017/08/27/insider/bretstephens/bretstephens-thumbLarge-v6.png?quality=75&amp;auto=webp&amp;disable=upscale\"/></div><div class=\"css-debyuq e1voiwgp1\"><div class=\"css-1xdt15l\"><div class=\"css-tnu8m6 e18df3gd0\">Bret Stephens</div></div><h2 class=\"css-z9cw67 e1voiwgp0\">Unwitting Progressives for Trump</h2></div></a>, <a aria-label=\"What Belarusians Can Learn From Poland by Bartosz T. Wielinski\" href=\"/2020/09/01/opinion/belarus-poland.html\"><div class=\"css-debyuq e1voiwgp1\"><div class=\"css-1xdt15l\"><div class=\"css-tnu8m6 e18df3gd0\">Bartosz T. Wielinski</div></div><h2 class=\"css-z9cw67 e1voiwgp0\">What Belarusians Can Learn From Poland</h2></div></a>, <a aria-label=\"Join Jamelle Bouie to discuss Trump and the need to condemn violence \" href=\"https://twitter.com/jbouie/status/1300842384352108546\"><div class=\"css-debyuq e1voiwgp1\"><h2 class=\"css-z9cw67 e1voiwgp0\">Join Jamelle Bouie to discuss Trump and the need to condemn violence</h2></div></a>, <a aria-label=\"Biden Condemned Violence. Why Won’t Trump? by Michelle Goldberg\" href=\"/2020/08/31/opinion/trump-biden-violence.html\"><div class=\"css-dcl9ft\"><img alt=\"Michelle Goldberg\" decoding=\"async\" src=\"https://static01.nyt.com/images/2018/04/02/opinion/michelle-goldberg/michelle-goldberg-thumbLarge.png?quality=75&amp;auto=webp&amp;disable=upscale\"/></div><div class=\"css-debyuq e1voiwgp1\"><div class=\"css-1xdt15l\"><div class=\"css-tnu8m6 e18df3gd0\">Michelle Goldberg</div></div><h2 class=\"css-z9cw67 e1voiwgp0\">Biden Condemned Violence. Why Won’t Trump?</h2></div></a>, <a aria-label=\"Trump Had One Good Response to Covid-19. His Party Killed It. by Paul Krugman\" href=\"/2020/08/31/opinion/trump-coronavirus-economy.html\"><div class=\"css-dcl9ft\"><img alt=\"Paul Krugman\" decoding=\"async\" src=\"https://static01.nyt.com/images/2018/04/02/opinion/paul-krugman/paul-krugman-thumbLarge.png?quality=75&amp;auto=webp&amp;disable=upscale\"/></div><div class=\"css-debyuq e1voiwgp1\"><div class=\"css-1xdt15l\"><div class=\"css-tnu8m6 e18df3gd0\">Paul Krugman</div></div><h2 class=\"css-z9cw67 e1voiwgp0\">Trump Had One Good Response to Covid-19. His Party Killed It.</h2></div></a>, <a aria-label=\"American Intelligence Knows What Russia Is Doing by The Editorial Board\" href=\"/2020/08/31/opinion/john-ratcliffe-russia-election.html\"><div class=\"css-debyuq e1voiwgp1\"><div class=\"css-1xdt15l\"><div class=\"css-tnu8m6 e18df3gd0\">The Editorial Board</div></div><h2 class=\"css-z9cw67 e1voiwgp0\">American Intelligence Knows What Russia Is Doing</h2></div></a>, <a aria-label=\"Join Us Today for a Live Conversation about Housing Inequity \" href=\"https://timesevents.nytimes.com/more-equitable-cities\"><div class=\"css-debyuq e1voiwgp1\"><h2 class=\"css-z9cw67 e1voiwgp0\">Join Us Today for a Live Conversation About Housing Inequity</h2></div></a>, <a href=\"/2020/09/01/style/dan-brown-wild-symphony-divorce.html\"><div class=\"css-1g8bx4t\"><figure class=\"css-mky99g\"><div class=\"css-zjzyr8\"><div data-testid=\"lazyimage-container\" style=\"height:480px\"></div></div><figcaption class=\"css-1blv1z4 e2u1rkt1\"><section class=\"css-1xdhyk6 e2u1rkt0\"><span class=\"credit\">Cody O'Loughlin for The New York Times</span></section></figcaption></figure></div></a>, <a href=\"/2020/09/01/style/dan-brown-wild-symphony-divorce.html\"><div class=\"css-debyuq e1voiwgp1\"><h2 class=\"css-1gnqzz e1voiwgp0\"><span>The Many Sides to Dan Brown</span></h2></div><p class=\"css-1pfq5u e1lfvv700\">The author of “The Da Vinci Code” released a classical music album for children. It’s one of the assets he and his ex-wife are disputing after their divorce.</p></a>, <a href=\"/2020/09/01/style/shirley-curry-skyrim-youtube.html\"><div class=\"css-debyuq e1voiwgp1\"><h2 class=\"css-1cmu9py e1voiwgp0\">This ‘Gamer Grandma’ Has More Than 900,000 ‘Grandkids’</h2></div><p class=\"css-1pfq5u e1lfvv700\">Shirley Curry, 84, has cultivated a following on YouTube with her charming videos of journeys through The Elder Scrolls V: Skyrim.</p></a>, <a href=\"/2020/09/01/style/shirley-curry-skyrim-youtube.html\"><div class=\"css-1g8bx4t\"><figure class=\"css-mky99g\"><div class=\"css-zjzyr8\"><div data-testid=\"lazyimage-container\" style=\"height:145.33333333333334px\"></div></div></figure></div></a>, <a href=\"/2020/08/28/your-money/impact-investing-coronavirus.html\"><div class=\"css-debyuq e1voiwgp1\"><h2 class=\"css-1cmu9py e1voiwgp0\">Investing in Social Good Is Finally Becoming Profitable</h2></div><p class=\"css-1pfq5u e1lfvv700\">Impact investments are outperforming traditional bets in the pandemic, which may be a turning point for wealthy investors looking to generate change.</p></a>, <a href=\"/2020/08/28/your-money/impact-investing-coronavirus.html\"><div class=\"css-1g8bx4t\"><figure class=\"css-mky99g\"><div class=\"css-zjzyr8\"><div data-testid=\"lazyimage-container\" style=\"height:145.33333333333334px\"></div></div></figure></div></a>]\n"
          ],
          "name": "stdout"
        }
      ]
    },
    {
      "cell_type": "code",
      "metadata": {
        "id": "_ai-iyiRWQYQ",
        "colab_type": "code",
        "colab": {
          "base_uri": "https://localhost:8080/",
          "height": 71
        },
        "outputId": "00dbca32-4262-4b06-bb2c-a1514d47104c"
      },
      "source": [
        "titulos =[]\n",
        "links = []\n",
        "for noticia in noticias:\n",
        "  titulos.append(noticia.text)\n",
        "  links.append('https://www.nytimes.com/'+ noticia['href'])\n",
        "print (titulos)\n",
        "print (links)\n",
        "dictNoticias = {}\n",
        "dictNoticias['Noticias']= titulos\n",
        "dictNoticias['links']= links"
      ],
      "execution_count": 22,
      "outputs": [
        {
          "output_type": "stream",
          "text": [
            "['', 'The MorningMake sense of the news, every day, with David Leonhardt.', '', 'California TodayHow to read California’s Air Quality Index.', '', 'Listen to ‘The Daily’Joe Biden’s rebuttal.', 'Trump Offers Baseless Theory of People in ‘Dark Shadows’ Behind BidenPresident Trump floated a conspiracy theory that powerful people were behind Joe Biden’s campaign in an interview on Fox late Monday.Mr. Trump also compared instances of the police shooting people to golfers who “choke” when trying to sink “a three-foot putt.”Today he is headed to Kenosha, Wis., where local officials fear he’ll stoke more unrest. Here’s the latest.', 'Trump Administration Promise to Focus on Extremism Remains UnfulfilledA year after the Department of Homeland Security promised a new focus on domestic extremism, the plan is nowhere in sight as the atmosphere worsens.', 'Mike Baker/The New York Times', 'How the Fatal Shooting at a Portland Protest UnfoldedWe followed the final moments of a man shot and killed in Portland, Ore., as supporters of President Trump clashed with those protesting police violence.', 'The States Joe Biden and President Trump Need to Win to Reach 270 Electoral VotesIn this interactive diagram, try building your own coalition of states to see potential outcomes of the presidential race.', 'Massachusetts Primary Elections: What to Watch ForSenator Edward Markey is facing off against Joseph Kennedy, while a young progressive takes on a powerful incumbent in Western Massachusetts.', 'Biden Expected to Surpass $300 Million Raised in August, Shattering RecordThe fund-raising total would exceed previous monthly hauls and is more than double what Joe Biden raised in July.', 'New York City Delays Start of School to Ready for In-Person ClassesThe city’s 1.1 million children will not return to school until Sept. 21.', 'LIVEChildren of Color Disproportionately Affected by Virus, Research ShowsThe unique vulnerability of these children comes to light as schools reopen across the nation and the globe. Here’s the latest.', 'A Parent’s Toughest Call: In-Person Schooling or Not?Parents are wrestling with difficult choices over sending their children to school. Here’s how one science reporter made the decision.', 'How to Stop the Next PandemicIt’s not just Covid-19. Pathogens once confined to nature are making their way into humans on a more regular basis. And it’s our fault.', '13:55', '‘We’re on Life Support’: Small Businesses Brace for Failure as Aid Dries UpMany business owners face tough choices after a federal loan program and other government moves to bolster the economy have run their course.', '‘I Am Stuck Until That Border Opens’: Marooned in ParadiseThis geographically isolated community in Washington State has avoided the coronavirus, but at a considerable cost.', 'LIVEBusiness Updates: Steven Mnuchin Testifies Before Congress on Virus AidA top Fed official says the U.S. economy remains at risk as the pandemic wears on. J.C. Penney faces liquidation as deal talks stall. Here’s the latest.', 'The Great ReadThe State Fair Is Canceled. Deep-Fried Oreos Are Not.Food vendors and their devoted fans are going to great lengths, from drive-throughs to phone apps, to keep the corn dogs and chickens-on-a-stick flowing.', 'Jenn Ackerman for The New York Times', 'Jamelle BouieTrump Needs His Own Sister Souljah MomentThe president must condemn those responsible for violence and disavow those who act in his name. Easy, right?', 'Kate MurphyWe’re All Socially Awkward NowDeprive people of interactions with peers, and their social skills will atrophy. This is yet another side effect of the pandemic.', '', 'John SipherTrump Creates His Own ‘Deep State’', 'Ezekiel J. Emanuel, Cathy Zhang and Amaya DianaBritain Is Doing Covid-19 Research Better Than the U.S.', 'Bret StephensUnwitting Progressives for Trump', 'Bartosz T. WielinskiWhat Belarusians Can Learn From Poland', 'Join Jamelle Bouie to discuss Trump and the need to condemn violence', 'Michelle GoldbergBiden Condemned Violence. Why Won’t Trump?', 'Paul KrugmanTrump Had One Good Response to Covid-19. His Party Killed It.', 'The Editorial BoardAmerican Intelligence Knows What Russia Is Doing', 'Join Us Today for a Live Conversation About Housing Inequity', \"Cody O'Loughlin for The New York Times\", 'The Many Sides to Dan BrownThe author of “The Da Vinci Code” released a classical music album for children. It’s one of the assets he and his ex-wife are disputing after their divorce.', 'This ‘Gamer Grandma’ Has More Than 900,000 ‘Grandkids’Shirley Curry, 84, has cultivated a following on YouTube with her charming videos of journeys through The Elder Scrolls V: Skyrim.', '', 'Investing in Social Good Is Finally Becoming ProfitableImpact investments are outperforming traditional bets in the pandemic, which may be a turning point for wealthy investors looking to generate change.', '']\n",
            "['https://www.nytimes.com//2020/09/01/briefing/coronavirus-kenosha-massachusetts-your-tuesday-briefing.html', 'https://www.nytimes.com//2020/09/01/briefing/coronavirus-kenosha-massachusetts-your-tuesday-briefing.html', 'https://www.nytimes.com//2020/09/01/us/ca-air-quality-index.html', 'https://www.nytimes.com//2020/09/01/us/ca-air-quality-index.html', 'https://www.nytimes.com//2020/09/01/podcasts/the-daily/joe-biden-protests-trump.html', 'https://www.nytimes.com//2020/09/01/podcasts/the-daily/joe-biden-protests-trump.html', 'https://www.nytimes.com/https://www.nytimes.com/live/2020/09/01/us/trump-vs-biden', 'https://www.nytimes.com//2020/09/01/us/politics/trump-homeland-security-extremism.html', 'https://www.nytimes.com//2020/08/31/video/portland-protests-shooting-investigation.html', 'https://www.nytimes.com//2020/08/31/video/portland-protests-shooting-investigation.html', 'https://www.nytimes.com//interactive/2020/us/elections/election-states-biden-trump.html', 'https://www.nytimes.com//2020/09/01/us/politics/massachusetts-elections-markey-kennedy-neal-morse.html', 'https://www.nytimes.com//2020/09/01/us/politics/biden-trump-fundraising-election.html', 'https://www.nytimes.com//2020/09/01/nyregion/schools-open-coronavirus-nyc.html', 'https://www.nytimes.com//2020/09/01/world/coronavirus-covid-19.html', 'https://www.nytimes.com//2020/09/01/health/coronavirus-parents-schools.html', 'https://www.nytimes.com//video/health/100000007293397/covid-pandemics-causes-documentary.html', 'https://www.nytimes.com//video/health/100000007293397/covid-pandemics-causes-documentary.html', 'https://www.nytimes.com//2020/09/01/business/economy/small-businesses-coronavirus.html', 'https://www.nytimes.com//2020/09/01/us/coronavirus-point-roberts-washington-canada.html', 'https://www.nytimes.com/https://www.nytimes.com/live/2020/09/01/business/stock-market-today-coronavirus', 'https://www.nytimes.com//2020/09/01/dining/state-fair-food-coronavirus.html', 'https://www.nytimes.com//2020/09/01/dining/state-fair-food-coronavirus.html', 'https://www.nytimes.com//2020/09/01/opinion/trump-kenosha-portland-sister-souljah.html', 'https://www.nytimes.com//2020/09/01/sunday-review/coronavirus-socially-awkward.html', 'https://www.nytimes.com//2020/09/01/sunday-review/coronavirus-socially-awkward.html', 'https://www.nytimes.com//2020/09/01/opinion/national-intelligence-briefings-House-senate.html', 'https://www.nytimes.com//2020/09/01/opinion/coronavirus-clinical-research.html', 'https://www.nytimes.com//2020/08/31/opinion/trump-biden-protests.html', 'https://www.nytimes.com//2020/09/01/opinion/belarus-poland.html', 'https://www.nytimes.com/https://twitter.com/jbouie/status/1300842384352108546', 'https://www.nytimes.com//2020/08/31/opinion/trump-biden-violence.html', 'https://www.nytimes.com//2020/08/31/opinion/trump-coronavirus-economy.html', 'https://www.nytimes.com//2020/08/31/opinion/john-ratcliffe-russia-election.html', 'https://www.nytimes.com/https://timesevents.nytimes.com/more-equitable-cities', 'https://www.nytimes.com//2020/09/01/style/dan-brown-wild-symphony-divorce.html', 'https://www.nytimes.com//2020/09/01/style/dan-brown-wild-symphony-divorce.html', 'https://www.nytimes.com//2020/09/01/style/shirley-curry-skyrim-youtube.html', 'https://www.nytimes.com//2020/09/01/style/shirley-curry-skyrim-youtube.html', 'https://www.nytimes.com//2020/08/28/your-money/impact-investing-coronavirus.html', 'https://www.nytimes.com//2020/08/28/your-money/impact-investing-coronavirus.html']\n"
          ],
          "name": "stdout"
        }
      ]
    },
    {
      "cell_type": "code",
      "metadata": {
        "id": "iM7BuyQyXrys",
        "colab_type": "code",
        "colab": {}
      },
      "source": [
        "import pandas as pd \n",
        "noticiasNyTimes = pd.DataFrame(dictNoticias)\n",
        "noticiasNyTimes\n",
        "\n",
        "noticiasNyTimes.to_csv('noticias.csv', index=False)"
      ],
      "execution_count": 28,
      "outputs": []
    }
  ]
}