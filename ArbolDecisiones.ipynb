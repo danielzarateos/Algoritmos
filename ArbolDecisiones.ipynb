{
  "nbformat": 4,
  "nbformat_minor": 0,
  "metadata": {
    "colab": {
      "name": "ArbolDecisiones.ipynb",
      "provenance": [],
      "include_colab_link": true
    },
    "kernelspec": {
      "name": "python3",
      "display_name": "Python 3"
    }
  },
  "cells": [
    {
      "cell_type": "markdown",
      "metadata": {
        "id": "view-in-github",
        "colab_type": "text"
      },
      "source": [
        "<a href=\"https://colab.research.google.com/github/danielzarateos/Algoritmos/blob/master/ArbolDecisiones.ipynb\" target=\"_parent\"><img src=\"https://colab.research.google.com/assets/colab-badge.svg\" alt=\"Open In Colab\"/></a>"
      ]
    },
    {
      "cell_type": "code",
      "metadata": {
        "id": "PY2fx2XBN4n_",
        "outputId": "8d514f85-297c-421c-e58e-5515d53c0768",
        "colab": {
          "base_uri": "https://localhost:8080/",
          "height": 68
        }
      },
      "source": [
        "from sklearn.datasets import load_iris #set datos \n",
        "from sklearn.model_selection import train_test_split #para dividir datos\n",
        "from sklearn.tree import  DecisionTreeClassifier #clasificador\n",
        "#Cargar datos\n",
        "iris = load_iris()\n",
        "#Dividir aleatoriamente los datos\n",
        "resultado= train_test_split(iris['data'], iris['target'])\n",
        "datosEntrenamiento = resultado[0]\n",
        "datosPrueba = resultado[1]\n",
        "respuestasEntrenamiento =resultado[2]\n",
        "respuestasPrueba = resultado[3]\n",
        "#Crear el algoritmo de aprendizaje\n",
        "#arbol = DecisionTreeClassifier(max_depth=5)\n",
        "#Entrenarlo\n",
        "#arbol.fit(datosEntrenamiento,respuestasEntrenamiento)\n",
        "#Probando\n",
        "#scoreTree = arbol.score(datosPrueba, respuestasPrueba)*100\n",
        "#Mostrar resultado\n",
        "#print (f'El resultado de clasificar con arbol de deciones es {scoreTree} % ')\n",
        "\n",
        "lista_arboles = []\n",
        "lista_scores = []\n",
        "lista_arboles.append(DecisionTreeClassifier(max_depth=3))\n",
        "lista_arboles.append(DecisionTreeClassifier(max_depth=5))\n",
        "lista_arboles.append(DecisionTreeClassifier(max_depth=8))\n",
        "#Entrenarlo\n",
        "#Probando)\n",
        "for elemento in lista_arboles:\n",
        "  elemento.fit(datosEntrenamiento,respuestasEntrenamiento)\n",
        "  lista_scores.append(elemento.score(datosPrueba, respuestasPrueba)*100)\n",
        "  print(elemento.score(datosPrueba,respuestasPrueba)*100)\n",
        "\n",
        "\n",
        "\n"
      ],
      "execution_count": 11,
      "outputs": [
        {
          "output_type": "stream",
          "text": [
            "84.21052631578947\n",
            "84.21052631578947\n",
            "86.8421052631579\n"
          ],
          "name": "stdout"
        }
      ]
    },
    {
      "cell_type": "code",
      "metadata": {
        "id": "NqO5OjJ3Iv8-",
        "outputId": "5ac510ba-174f-4b1d-92ed-b09ea6aad13f",
        "colab": {
          "base_uri": "https://localhost:8080/",
          "height": 312
        }
      },
      "source": [
        "import matplotlib.pyplot as plt\n",
        "maxdepth = [\"3\",\"5\",\"8\"]\n",
        "plt.bar(maxdepth,lista_scores)\n",
        "plt.ylabel(\"Porcentaje\")\n",
        "plt.xlabel(\"Maxdepht\")\n",
        "plt.title(\"Comparacion arboles\")\n",
        "plt.show()\n",
        "plt.savefig(\"GraficoMaxDepth.png\")"
      ],
      "execution_count": 12,
      "outputs": [
        {
          "output_type": "display_data",
          "data": {
            "image/png": "[encoded data removed]",
            "text/plain": [
              "<Figure size 432x288 with 1 Axes>"
            ]
          },
          "metadata": {
            "tags": [],
            "needs_background": "light"
          }
        },
        {
          "output_type": "display_data",
          "data": {
            "text/plain": [
              "<Figure size 432x288 with 0 Axes>"
            ]
          },
          "metadata": {
            "tags": []
          }
        }
      ]
    }
  ]
}