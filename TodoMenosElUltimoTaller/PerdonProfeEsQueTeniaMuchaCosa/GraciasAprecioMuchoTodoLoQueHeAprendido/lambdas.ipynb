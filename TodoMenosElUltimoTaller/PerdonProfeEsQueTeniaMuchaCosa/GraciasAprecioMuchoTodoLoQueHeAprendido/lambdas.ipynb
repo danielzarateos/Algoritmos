{
  "nbformat": 4,
  "nbformat_minor": 0,
  "metadata": {
    "colab": {
      "name": "Untitled1.ipynb",
      "provenance": [],
      "authorship_tag": "ABX9TyO4vAp7pDkPddjJmpBDissp",
      "include_colab_link": true
    },
    "kernelspec": {
      "name": "python3",
      "display_name": "Python 3"
    }
  },
  "cells": [
    {
      "cell_type": "markdown",
      "metadata": {
        "id": "view-in-github",
        "colab_type": "text"
      },
      "source": [
        "<a href=\"https://colab.research.google.com/github/danielzarateos/Algoritmos/blob/master/lambdas.ipynb\" target=\"_parent\"><img src=\"https://colab.research.google.com/assets/colab-badge.svg\" alt=\"Open In Colab\"/></a>"
      ]
    },
    {
      "cell_type": "code",
      "metadata": {
        "id": "Y1vz6aGOJlla",
        "colab_type": "code",
        "colab": {}
      },
      "source": [
        "#Hacer funcion lambda que devuelva el exponente N de un numero dado\n",
        "#Muestre en pantalla N veces una palabra ingresada\n",
        "#Muestre en pantalla el numero maximo de dos listas ingresadas\n"
      ],
      "execution_count": null,
      "outputs": []
    },
    {
      "cell_type": "code",
      "metadata": {
        "id": "_ifUGLwgKTIc",
        "colab_type": "code",
        "colab": {}
      },
      "source": [
        "exponente_n  = lambda base, exponente: print (base**exponente)\n",
        "base=int(input(\"Base: \"))\n",
        "exponente=int(input(\"Exponente: \"))\n",
        "exponente_n(base,exponente)"
      ],
      "execution_count": null,
      "outputs": []
    },
    {
      "cell_type": "code",
      "metadata": {
        "id": "remlBTZPLd4a",
        "colab_type": "code",
        "colab": {}
      },
      "source": [
        "impresion = lambda palabra, palabra_cantidad: print(palabra*palabra_cantidad)\n",
        "palabra=str(input(\"Que palabra quieres imprimir: \"))\n",
        "palabra_cantidad=int(input(\"Cuantas veces: \"))\n",
        "impresion(palabra,palabra_cantidad)"
      ],
      "execution_count": null,
      "outputs": []
    },
    {
      "cell_type": "code",
      "metadata": {
        "id": "FS7cF1YUMA_B",
        "colab_type": "code",
        "colab": {
          "base_uri": "https://localhost:8080/",
          "height": 272
        },
        "outputId": "9d7506bd-01b4-49d0-9949-45ed76187e45"
      },
      "source": [
        "numero_maximo = lambda listaA, listaB: print(max(listaA),max(listaB))\n",
        "listaA= []\n",
        "listaB= []\n",
        "longitud_listaA = int(input(\"Cual va a ser la longitud de la lista 1: \"))\n",
        "for i in range (longitud_listaA) :\n",
        "  listaA.append(int(input(\"numero: \")))\n",
        "  print(listaA)\n",
        "longitud_listaB = int(input(\"Cual va a ser la longitud de la lista 2: \"))\n",
        "for i in range (longitud_listaB) :\n",
        "  listaB.append(int(input(\"numero: \")))\n",
        "  print(listaB)\n",
        "numero_maximo(listaA,listaB)"
      ],
      "execution_count": 21,
      "outputs": [
        {
          "output_type": "stream",
          "text": [
            "Cual va a ser la longitud de la lista 1: 3\n",
            "numero: 99\n",
            "[99]\n",
            "numero: 10000\n",
            "[99, 10000]\n",
            "numero: 4\n",
            "[99, 10000, 4]\n",
            "Cual va a ser la longitud de la lista 2: 3\n",
            "numero: 33\n",
            "[33]\n",
            "numero: 999999\n",
            "[33, 999999]\n",
            "numero: 1\n",
            "[33, 999999, 1]\n",
            "10000 999999\n"
          ],
          "name": "stdout"
        }
      ]
    }
  ]
}