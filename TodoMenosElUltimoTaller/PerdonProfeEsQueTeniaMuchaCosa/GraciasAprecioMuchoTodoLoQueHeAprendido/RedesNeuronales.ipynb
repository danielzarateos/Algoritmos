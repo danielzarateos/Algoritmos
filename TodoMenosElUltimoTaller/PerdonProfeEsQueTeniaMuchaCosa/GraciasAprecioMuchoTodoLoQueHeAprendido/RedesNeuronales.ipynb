{
  "nbformat": 4,
  "nbformat_minor": 0,
  "metadata": {
    "colab": {
      "name": "RedesNeuronales.ipynb",
      "provenance": [],
      "include_colab_link": true
    },
    "kernelspec": {
      "name": "python3",
      "display_name": "Python 3"
    }
  },
  "cells": [
    {
      "cell_type": "markdown",
      "metadata": {
        "id": "view-in-github",
        "colab_type": "text"
      },
      "source": [
        "<a href=\"https://colab.research.google.com/github/danielzarateos/Algoritmos/blob/master/RedesNeuronales.ipynb\" target=\"_parent\"><img src=\"https://colab.research.google.com/assets/colab-badge.svg\" alt=\"Open In Colab\"/></a>"
      ]
    },
    {
      "cell_type": "code",
      "metadata": {
        "id": "ktlw7icp_yAt"
      },
      "source": [
        "import sklearn\n",
        "from sklearn.model_selection import train_test_split\n",
        "from sklearn.datasets import  load_iris\n",
        "from sklearn.neural_network import  MLPClassifier\n",
        "from sklearn.neighbors import KNeighborsClassifier\n",
        "from sklearn.tree import  DecisionTreeClassifier\n",
        "iris = load_iris()\n",
        "datosEntrenamiento, datosPrueba,respuestasEntrenamiento,respuestaPrueba=train_test_split(iris['data'],iris['target'])\n",
        "\n",
        "caracteristicas = iris.data\n",
        "objetivos = iris.target\n",
        "\n",
        "dataTrain, dataTest, targetTrain,targetTest = train_test_split(caracteristicas,objetivos)\n",
        "\n"
      ],
      "execution_count": 3,
      "outputs": []
    },
    {
      "cell_type": "code",
      "metadata": {
        "id": "PyrKJ_w2Bdkn",
        "outputId": "a99df240-7d4e-44ad-a7df-2edb4d444033",
        "colab": {
          "base_uri": "https://localhost:8080/",
          "height": 88
        }
      },
      "source": [
        "lista_pruebas = []\n",
        "resultados = []\n",
        "lista_pruebas.append(KNeighborsClassifier(n_neighbors=3))\n",
        "lista_pruebas.append(DecisionTreeClassifier(max_depth=5))\n",
        "lista_pruebas.append(MLPClassifier(max_iter=60, hidden_layer_sizes=[60,60]))\n",
        "for elemento in lista_pruebas:\n",
        "  elemento.fit(datosEntrenamiento,respuestasEntrenamiento)\n",
        "  resultados.append(elemento.score(datosEntrenamiento,respuestasEntrenamiento)*100)\n",
        "print(resultados)"
      ],
      "execution_count": 4,
      "outputs": [
        {
          "output_type": "stream",
          "text": [
            "[95.53571428571429, 100.0, 96.42857142857143]\n"
          ],
          "name": "stdout"
        },
        {
          "output_type": "stream",
          "text": [
            "/usr/local/lib/python3.6/dist-packages/sklearn/neural_network/_multilayer_perceptron.py:571: ConvergenceWarning: Stochastic Optimizer: Maximum iterations (60) reached and the optimization hasn't converged yet.\n",
            "  % self.max_iter, ConvergenceWarning)\n"
          ],
          "name": "stderr"
        }
      ]
    },
    {
      "cell_type": "code",
      "metadata": {
        "id": "Acbyu_d8CPUa",
        "outputId": "ffe77533-f1c2-4389-8874-4294f0c9869c",
        "colab": {
          "base_uri": "https://localhost:8080/",
          "height": 329
        }
      },
      "source": [
        "import matplotlib.pyplot as plt\n",
        "maxdepth = [\"KNn\",\"Arbol\",\"Red Neural\"]\n",
        "plt.bar(maxdepth,resultados)\n",
        "plt.ylabel(\"Porcentaje\")\n",
        "plt.xlabel(maxdepth)\n",
        "plt.title(\"Comparacion\")\n",
        "plt.show()\n",
        "plt.savefig(\"GraficoComparativo.png\")\n",
        "print(f\"El mas preciso fue {max(resultados)}\")"
      ],
      "execution_count": 7,
      "outputs": [
        {
          "output_type": "display_data",
          "data": {
            "image/png": "[encoded data removed]",
            "text/plain": [
              "<Figure size 432x288 with 1 Axes>"
            ]
          },
          "metadata": {
            "tags": [],
            "needs_background": "light"
          }
        },
        {
          "output_type": "stream",
          "text": [
            "El mas preciso fue 100.0\n"
          ],
          "name": "stdout"
        },
        {
          "output_type": "display_data",
          "data": {
            "text/plain": [
              "<Figure size 432x288 with 0 Axes>"
            ]
          },
          "metadata": {
            "tags": []
          }
        }
      ]
    }
  ]
}