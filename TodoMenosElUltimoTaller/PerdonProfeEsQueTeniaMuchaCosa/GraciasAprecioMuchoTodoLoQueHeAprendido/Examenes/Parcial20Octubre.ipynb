{
  "nbformat": 4,
  "nbformat_minor": 0,
  "metadata": {
    "colab": {
      "name": "Untitled4.ipynb",
      "provenance": [],
      "authorship_tag": "ABX9TyO8G1Ywe2MWAXMLsQVPuLwj",
      "include_colab_link": true
    },
    "kernelspec": {
      "name": "python3",
      "display_name": "Python 3"
    }
  },
  "cells": [
    {
      "cell_type": "markdown",
      "metadata": {
        "id": "view-in-github",
        "colab_type": "text"
      },
      "source": [
        "<a href=\"https://colab.research.google.com/github/danielzarateos/Algoritmos/blob/master/Parcial20Octubre.ipynb\" target=\"_parent\"><img src=\"https://colab.research.google.com/assets/colab-badge.svg\" alt=\"Open In Colab\"/></a>"
      ]
    },
    {
      "cell_type": "code",
      "metadata": {
        "id": "q1Ie7KJgDZfF"
      },
      "source": [
        "Valor (1.0) Dado el set de datos de iris comparar emplear KNN para el aprendizaje comparar los resultados para \n",
        "N = 4,8,12,16. En alguno de los puntos ¿Existe sobre ajuste?\n",
        "Valor (1.0) Dado el set de datos de iris crear un árbol de decisiones con una profundidad máxima de 3 para el \n",
        "aprendizaje ¿Es mejor el árbol con esta profundidad que alguno de los del punto 1?\n",
        "Valor (1.5) Dado el set de datos de iris crear una rede neuronal con tres capas intermedias donde la primera \n",
        "tiene 25 neuronas, la segunda 82 y la ultima 30 con un número máximo de iteraciones de 3000.\n",
        "Valor (1.0) Compare todos los puntos anteriores empleando un gráfico de barras\n",
        "Valor (0.5) Dado este link utilizar algún clasificador que no hayamos visto en clase para entrenar con el set de datos de iris"
      ],
      "execution_count": null,
      "outputs": []
    },
    {
      "cell_type": "code",
      "metadata": {
        "id": "YjyVkQenGF8R",
        "outputId": "83f97e87-b512-4871-e44f-4e7371513103",
        "colab": {
          "base_uri": "https://localhost:8080/",
          "height": 437
        }
      },
      "source": [
        "import sklearn\n",
        "from sklearn.model_selection import train_test_split\n",
        "from sklearn.datasets import  load_iris\n",
        "from sklearn.neural_network import  MLPClassifier\n",
        "from sklearn.neighbors import KNeighborsClassifier\n",
        "from sklearn.tree import  DecisionTreeClassifier\n",
        "import matplotlib.pyplot as plt\n",
        "\n",
        "iris = load_iris()\n",
        "datosEntrenamiento, datosPrueba,respuestasEntrenamiento,respuestaPrueba=train_test_split(iris['data'],iris['target'])\n",
        "\n",
        "caracteristicas = iris.data\n",
        "objetivos = iris.target\n",
        "\n",
        "dataTrain, dataTest, targetTrain,targetTest = train_test_split(caracteristicas,objetivos)\n",
        "lista_knn = []\n",
        "lista_arbol = []\n",
        "lista_mlp = []\n",
        "resultados = []\n",
        "lista_knn.append(KNeighborsClassifier(n_neighbors=4))\n",
        "lista_knn.append(KNeighborsClassifier(n_neighbors=8))\n",
        "lista_knn.append(KNeighborsClassifier(n_neighbors=12))\n",
        "lista_knn.append(KNeighborsClassifier(n_neighbors=16))\n",
        "lista_arbol.append(DecisionTreeClassifier(max_depth=3))\n",
        "lista_mlp.append(MLPClassifier(max_iter=3000, hidden_layer_sizes=[25,25]))\n",
        "lista_mlp.append(MLPClassifier(max_iter=3000, hidden_layer_sizes=[82,82]))\n",
        "lista_mlp.append(MLPClassifier(max_iter=3000, hidden_layer_sizes=[30,30]))\n",
        "for elemento in lista_pruebas:\n",
        "  elemento.fit(datosEntrenamiento,respuestasEntrenamiento)\n",
        "  resultados.append(elemento.score(datosEntrenamiento,respuestasEntrenamiento)*100)\n",
        "print(resultados)\n",
        "print(\"Punto 1\\n Si, podemos ver que en las ultimas dos, despues de N = 8, la probabilidad baja o no se mueve, causado por sobreajustes\")\n",
        "print(\"Punto 2\\n No, la probabilidad cambia entre caso y caso, mas el arbol con profundidad maxima de tres normalmente veces da mas baja que cualquiera del punto 1\")\n",
        "maxdepth = [\"KNn 4\",\"KNn 8\",\"KNn 12\",\"KNn 16\",\"Arbol 3\",\"MLP 25\",\"MLP 82\",\"MLP 30\"]\n",
        "plt.bar(maxdepth,resultados)\n",
        "plt.ylabel(\"Porcentaje\")\n",
        "plt.title(\"Comparacion\")\n",
        "plt.show()\n",
        "plt.savefig(\"GraficoComparativo.png\")\n",
        "print(f\"El mas preciso fue {max(resultados)}\")\n",
        "from sklearn.linear_model import Ridge\n",
        "ridge = Ridge ()\n",
        "ridge.fit (datosEntrenamiento,respuestasEntrenamiento)\n",
        "print (ridge.score(datosEntrenamiento,respuestasEntrenamiento)*100)\n",
        "ridgeScore = ridge.score(datosEntrenamiento,respuestasEntrenamiento)*100"
      ],
      "execution_count": 45,
      "outputs": [
        {
          "output_type": "stream",
          "text": [
            "[95.53571428571429, 95.53571428571429, 94.64285714285714, 94.64285714285714, 97.32142857142857, 97.32142857142857, 98.21428571428571, 98.21428571428571]\n",
            "Punto 1\n",
            " Si, podemos ver que en las ultimas dos, despues de N = 8, la probabilidad baja o no se mueve, causado por sobreajustes\n",
            "Punto 2\n",
            " No, la probabilidad cambia entre caso y caso, mas el arbol con profundidad maxima de tres normalmente veces da mas baja que cualquiera del punto 1\n"
          ],
          "name": "stdout"
        },
        {
          "output_type": "display_data",
          "data": {
            "image/png": "[encoded data removed]",
            "text/plain": [
              "<Figure size 432x288 with 1 Axes>"
            ]
          },
          "metadata": {
            "tags": [],
            "needs_background": "light"
          }
        },
        {
          "output_type": "stream",
          "text": [
            "El mas preciso fue 98.21428571428571\n",
            "93.52798509757882\n"
          ],
          "name": "stdout"
        },
        {
          "output_type": "display_data",
          "data": {
            "text/plain": [
              "<Figure size 432x288 with 0 Axes>"
            ]
          },
          "metadata": {
            "tags": []
          }
        }
      ]
    }
  ]
}